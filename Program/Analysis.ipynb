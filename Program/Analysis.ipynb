{
 "cells": [
  {
   "cell_type": "code",
   "execution_count": 2,
   "metadata": {
    "collapsed": true
   },
   "outputs": [],
   "source": [
    "from scipy import stats\n",
    "import numpy as np\n",
    "import pandas as pd\n",
    "import matplotlib.pyplot as plt\n",
    "import sklearn.linear_model as linear_model\n",
    "from sklearn.metrics import r2_score"
   ]
  },
  {
   "cell_type": "code",
   "execution_count": 3,
   "metadata": {},
   "outputs": [],
   "source": [
    "DATA_FILE = \"../Movie_Budget_and_Box_Office.csv\""
   ]
  },
  {
   "cell_type": "code",
   "execution_count": 4,
   "metadata": {},
   "outputs": [
    {
     "data": {
      "text/html": [
       "<div>\n",
       "<style scoped>\n",
       "    .dataframe tbody tr th:only-of-type {\n",
       "        vertical-align: middle;\n",
       "    }\n",
       "\n",
       "    .dataframe tbody tr th {\n",
       "        vertical-align: top;\n",
       "    }\n",
       "\n",
       "    .dataframe thead th {\n",
       "        text-align: right;\n",
       "    }\n",
       "</style>\n",
       "<table border=\"1\" class=\"dataframe\">\n",
       "  <thead>\n",
       "    <tr style=\"text-align: right;\">\n",
       "      <th></th>\n",
       "      <th>Movie</th>\n",
       "      <th>Month</th>\n",
       "      <th>Day</th>\n",
       "      <th>Release Year</th>\n",
       "      <th>Budget($M)</th>\n",
       "      <th>Domestic Gross($M)</th>\n",
       "      <th>Worldwide Gross($M)</th>\n",
       "    </tr>\n",
       "  </thead>\n",
       "  <tbody>\n",
       "    <tr>\n",
       "      <th>0</th>\n",
       "      <td>Avatar</td>\n",
       "      <td>Dec</td>\n",
       "      <td>18</td>\n",
       "      <td>2009</td>\n",
       "      <td>425.0</td>\n",
       "      <td>760.507625</td>\n",
       "      <td>2783.918982</td>\n",
       "    </tr>\n",
       "    <tr>\n",
       "      <th>1</th>\n",
       "      <td>Star Wars Ep. VII: The Force Awakens</td>\n",
       "      <td>Dec</td>\n",
       "      <td>18</td>\n",
       "      <td>2015</td>\n",
       "      <td>306.0</td>\n",
       "      <td>936.662225</td>\n",
       "      <td>2058.662225</td>\n",
       "    </tr>\n",
       "    <tr>\n",
       "      <th>2</th>\n",
       "      <td>Pirates of the Caribbean: At World's End</td>\n",
       "      <td>May</td>\n",
       "      <td>24</td>\n",
       "      <td>2007</td>\n",
       "      <td>300.0</td>\n",
       "      <td>309.420425</td>\n",
       "      <td>963.420425</td>\n",
       "    </tr>\n",
       "    <tr>\n",
       "      <th>3</th>\n",
       "      <td>Spectre</td>\n",
       "      <td>Nov</td>\n",
       "      <td>6</td>\n",
       "      <td>2015</td>\n",
       "      <td>300.0</td>\n",
       "      <td>200.074175</td>\n",
       "      <td>879.620923</td>\n",
       "    </tr>\n",
       "    <tr>\n",
       "      <th>4</th>\n",
       "      <td>The Dark Knight Rises</td>\n",
       "      <td>Jul</td>\n",
       "      <td>20</td>\n",
       "      <td>2012</td>\n",
       "      <td>275.0</td>\n",
       "      <td>448.139099</td>\n",
       "      <td>1084.439099</td>\n",
       "    </tr>\n",
       "  </tbody>\n",
       "</table>\n",
       "</div>"
      ],
      "text/plain": [
       "<div>\n",
       "<style scoped>\n",
       "    .dataframe tbody tr th:only-of-type {\n",
       "        vertical-align: middle;\n",
       "    }\n",
       "\n",
       "    .dataframe tbody tr th {\n",
       "        vertical-align: top;\n",
       "    }\n",
       "\n",
       "    .dataframe thead th {\n",
       "        text-align: right;\n",
       "    }\n",
       "</style>\n",
       "<table border=\"1\" class=\"dataframe\">\n",
       "  <thead>\n",
       "    <tr style=\"text-align: right;\">\n",
       "      <th></th>\n",
       "      <th>Movie</th>\n",
       "      <th>Month</th>\n",
       "      <th>Day</th>\n",
       "      <th>Release Year</th>\n",
       "      <th>Budget($M)</th>\n",
       "      <th>Domestic Gross($M)</th>\n",
       "      <th>Worldwide Gross($M)</th>\n",
       "    </tr>\n",
       "  </thead>\n",
       "  <tbody>\n",
       "    <tr>\n",
       "      <th>0</th>\n",
       "      <td>Avatar</td>\n",
       "      <td>Dec</td>\n",
       "      <td>18</td>\n",
       "      <td>2009</td>\n",
       "      <td>425.0</td>\n",
       "      <td>760.507625</td>\n",
       "      <td>2783.918982</td>\n",
       "    </tr>\n",
       "    <tr>\n",
       "      <th>1</th>\n",
       "      <td>Star Wars Ep. VII: The Force Awakens</td>\n",
       "      <td>Dec</td>\n",
       "      <td>18</td>\n",
       "      <td>2015</td>\n",
       "      <td>306.0</td>\n",
       "      <td>936.662225</td>\n",
       "      <td>2058.662225</td>\n",
       "    </tr>\n",
       "    <tr>\n",
       "      <th>2</th>\n",
       "      <td>Pirates of the Caribbean: At World's End</td>\n",
       "      <td>May</td>\n",
       "      <td>24</td>\n",
       "      <td>2007</td>\n",
       "      <td>300.0</td>\n",
       "      <td>309.420425</td>\n",
       "      <td>963.420425</td>\n",
       "    </tr>\n",
       "    <tr>\n",
       "      <th>3</th>\n",
       "      <td>Spectre</td>\n",
       "      <td>Nov</td>\n",
       "      <td>6</td>\n",
       "      <td>2015</td>\n",
       "      <td>300.0</td>\n",
       "      <td>200.074175</td>\n",
       "      <td>879.620923</td>\n",
       "    </tr>\n",
       "    <tr>\n",
       "      <th>4</th>\n",
       "      <td>The Dark Knight Rises</td>\n",
       "      <td>Jul</td>\n",
       "      <td>20</td>\n",
       "      <td>2012</td>\n",
       "      <td>275.0</td>\n",
       "      <td>448.139099</td>\n",
       "      <td>1084.439099</td>\n",
       "    </tr>\n",
       "  </tbody>\n",
       "</table>\n",
       "</div>"
      ]
     },
     "execution_count": 4,
     "metadata": {},
     "output_type": "execute_result"
    }
   ],
   "source": [
    "data = pd.read_csv(DATA_FILE)\n",
    "data.head()"
   ]
  },
  {
   "cell_type": "code",
   "execution_count": 5,
   "metadata": {},
   "outputs": [
    {
     "name": "stderr",
     "output_type": "stream",
     "text": [
      "/Library/Frameworks/Python.framework/Versions/3.6/lib/python3.6/site-packages/ipykernel_launcher.py:1: FutureWarning: reshape is deprecated and will raise in a subsequent release. Please use .values.reshape(...) instead\n  \"\"\"Entry point for launching an IPython kernel.\n/Library/Frameworks/Python.framework/Versions/3.6/lib/python3.6/site-packages/ipykernel_launcher.py:2: FutureWarning: reshape is deprecated and will raise in a subsequent release. Please use .values.reshape(...) instead\n  \n"
     ]
    }
   ],
   "source": [
    "budget = data['Budget($M)'].reshape([-1,1])\n",
    "WorldwideGross = data['Worldwide Gross($M)'].reshape([-1,1])"
   ]
  },
  {
   "cell_type": "code",
   "execution_count": 6,
   "metadata": {},
   "outputs": [
    {
     "data": {
      "text/plain": [
       "[<matplotlib.lines.Line2D at 0x115f0d0b8>]"
      ]
     },
     "execution_count": 6,
     "metadata": {},
     "output_type": "execute_result"
    },
    {
     "data": {
      "image/png": "[encoded data removed]",
      "text/plain": [
       "<matplotlib.figure.Figure at 0x116541b70>"
      ]
     },
     "metadata": {},
     "output_type": "display_data"
    }
   ],
   "source": [
    "plt.plot(budget[:100], WorldwideGross[:100])"
   ]
  },
  {
   "cell_type": "code",
   "execution_count": 7,
   "metadata": {
    "collapsed": true
   },
   "outputs": [
    {
     "name": "stderr",
     "output_type": "stream",
     "text": [
      "/Library/Frameworks/Python.framework/Versions/3.6/lib/python3.6/site-packages/scipy/linalg/basic.py:1226: RuntimeWarning: internal gelsd driver lwork query error, required iwork dimension not returned. This is likely the result of LAPACK bug 0038, fixed in LAPACK 3.2.2 (released July 21, 2010). Falling back to 'gelss' driver.\n  warnings.warn(mesg, RuntimeWarning)\n"
     ]
    },
    {
     "data": {
      "text/plain": [
       "LinearRegression(copy_X=True, fit_intercept=True, n_jobs=1, normalize=False)"
      ]
     },
     "execution_count": 7,
     "metadata": {},
     "output_type": "execute_result"
    }
   ],
   "source": [
    "linearReg = linear_model.LinearRegression()\n",
    "linearReg.fit(budget, WorldwideGross)"
   ]
  },
  {
   "cell_type": "code",
   "execution_count": 8,
   "metadata": {},
   "outputs": [],
   "source": [
    "prediction=linearReg.predict(np.sort(budget, axis=0))"
   ]
  },
  {
   "cell_type": "code",
   "execution_count": 9,
   "metadata": {},
   "outputs": [
    {
     "data": {
      "text/plain": [
       "[<matplotlib.lines.Line2D at 0x115b4c320>]"
      ]
     },
     "execution_count": 9,
     "metadata": {},
     "output_type": "execute_result"
    },
    {
     "data": {
      "image/png": "[encoded data removed]",
      "text/plain": [
       "<matplotlib.figure.Figure at 0x115b4c438>"
      ]
     },
     "metadata": {},
     "output_type": "display_data"
    }
   ],
   "source": [
    "plt.scatter(budget, WorldwideGross)\n",
    "plt.plot(np.sort(budget, axis=0),prediction)"
   ]
  },
  {
   "cell_type": "code",
   "execution_count": 18,
   "metadata": {},
   "outputs": [
    {
     "name": "stdout",
     "output_type": "stream",
     "text": [
      "coef: [[3.06906247]]\n"
     ]
    }
   ],
   "source": [
    "r2 = r2_score(WorldwideGross, prediction)\n",
    "coef = linearReg.coef_\n",
    "print(\"coef:\", coef)\n",
    "constant = linearReg.intercept_"
   ]
  },
  {
   "cell_type": "code",
   "execution_count": 19,
   "metadata": {},
   "outputs": [
    {
     "data": {
      "text/plain": [
       "-1.0105964387625166"
      ]
     },
     "execution_count": 19,
     "metadata": {},
     "output_type": "execute_result"
    }
   ],
   "source": [
    "r2"
   ]
  },
  {
   "cell_type": "code",
   "execution_count": 20,
   "metadata": {},
   "outputs": [],
   "source": [
    "r = WorldwideGross/budget"
   ]
  },
  {
   "cell_type": "code",
   "execution_count": 21,
   "metadata": {},
   "outputs": [
    {
     "data": {
      "text/plain": [
       "Ttest_1sampResult(statistic=array([[4.28605682]]), pvalue=array([[1.85147028e-05]]))"
      ]
     },
     "execution_count": 21,
     "metadata": {},
     "output_type": "execute_result"
    }
   ],
   "source": [
    "# fit on all data \n",
    "stats.ttest_1samp(r, coef)"
   ]
  },
  {
   "cell_type": "code",
   "execution_count": 22,
   "metadata": {},
   "outputs": [],
   "source": [
    "# since p value is significantly less than coef, therefore reject Ho. "
   ]
  },
  {
   "cell_type": "code",
   "execution_count": 23,
   "metadata": {},
   "outputs": [
    {
     "name": "stdout",
     "output_type": "stream",
     "text": [
      "df: 5221\n"
     ]
    }
   ],
   "source": [
    "df = len(r)-1\n",
    "print(\"df:\", df)"
   ]
  },
  {
   "cell_type": "code",
   "execution_count": 28,
   "metadata": {},
   "outputs": [],
   "source": [
    "##########"
   ]
  },
  {
   "cell_type": "code",
   "execution_count": 30,
   "metadata": {},
   "outputs": [
    {
     "name": "stdout",
     "output_type": "stream",
     "text": [
      "df: 100\nTtest_1sampResult(statistic=array([[-16.78333397]]), pvalue=array([[1.03069779e-30]]))\n"
     ]
    }
   ],
   "source": [
    "# top 100 movies \n",
    "linearReg.fit(budget[:100], WorldwideGross[:100])\n",
    "coef = linearReg.coef_\n",
    "r = WorldwideGross[:100]/budget[:100]\n",
    "df = len(r-1)\n",
    "print(\"df:\", df)\n",
    "print(stats.ttest_1samp(r, coef))"
   ]
  },
  {
   "cell_type": "code",
   "execution_count": 69,
   "metadata": {},
   "outputs": [],
   "source": [
    "# since p value is significantly less than alpha, reject Ho.  "
   ]
  },
  {
   "cell_type": "code",
   "execution_count": null,
   "metadata": {},
   "outputs": [],
   "source": []
  },
  {
   "cell_type": "code",
   "execution_count": 31,
   "metadata": {},
   "outputs": [
    {
     "name": "stdout",
     "output_type": "stream",
     "text": [
      "df: 100\nTtest_1sampResult(statistic=array([[0.14159829]]), pvalue=array([[0.88768506]]))\n"
     ]
    }
   ],
   "source": [
    "# bottom 100 movies\n",
    "linearReg.fit(budget[-100:], WorldwideGross[-100:])\n",
    "coef = linearReg.coef_\n",
    "r = WorldwideGross[-100:]/budget[-100:]\n",
    "df = len(r-1)\n",
    "print(\"df:\", df)\n",
    "print(stats.ttest_1samp(r, coef))"
   ]
  },
  {
   "cell_type": "code",
   "execution_count": null,
   "metadata": {},
   "outputs": [],
   "source": [
    "# since p value is larger than alpha, fail to reject Ho. Meaning that this rule applies to the movies that has a low rating"
   ]
  }
 ],
 "metadata": {
  "kernelspec": {
   "display_name": "Python 2",
   "language": "python",
   "name": "python2"
  },
  "language_info": {
   "codemirror_mode": {
    "name": "ipython",
    "version": 2
   },
   "file_extension": ".py",
   "mimetype": "text/x-python",
   "name": "python",
   "nbconvert_exporter": "python",
   "pygments_lexer": "ipython2",
   "version": "2.7.6"
  }
 },
 "nbformat": 4,
 "nbformat_minor": 0
}
